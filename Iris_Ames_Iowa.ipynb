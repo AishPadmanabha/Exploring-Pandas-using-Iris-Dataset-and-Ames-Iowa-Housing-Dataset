{
 "cells": [
  {
   "cell_type": "markdown",
   "metadata": {},
   "source": [
    "## Iris Dataset"
   ]
  },
  {
   "cell_type": "code",
   "execution_count": 1,
   "metadata": {},
   "outputs": [],
   "source": [
    "import pandas as pd\n",
    "import matplotlib.pyplot as plt"
   ]
  },
  {
   "cell_type": "code",
   "execution_count": 2,
   "metadata": {},
   "outputs": [],
   "source": [
    "url = \"http://archive.ics.uci.edu/ml/machine-learning-databases/iris/iris.data\"\n",
    "df = pd.read_csv(url, header=None, names=[\"Sepal Length\", \"Sepal Width\",\n",
    "\"Petal Length\", \"Petal Width\",\n",
    "\"Name\"])"
   ]
  },
  {
   "cell_type": "code",
   "execution_count": 3,
   "metadata": {},
   "outputs": [],
   "source": [
    "pd.set_option('display.max_rows', 200)"
   ]
  },
  {
   "cell_type": "markdown",
   "metadata": {},
   "source": [
    "### **1.1 Summary Statistics**"
   ]
  },
  {
   "cell_type": "markdown",
   "metadata": {},
   "source": [
    "**First 5 elements of the data frame**"
   ]
  },
  {
   "cell_type": "code",
   "execution_count": 4,
   "metadata": {},
   "outputs": [
    {
     "data": {
      "text/html": [
       "<div>\n",
       "<style scoped>\n",
       "    .dataframe tbody tr th:only-of-type {\n",
       "        vertical-align: middle;\n",
       "    }\n",
       "\n",
       "    .dataframe tbody tr th {\n",
       "        vertical-align: top;\n",
       "    }\n",
       "\n",
       "    .dataframe thead th {\n",
       "        text-align: right;\n",
       "    }\n",
       "</style>\n",
       "<table border=\"1\" class=\"dataframe\">\n",
       "  <thead>\n",
       "    <tr style=\"text-align: right;\">\n",
       "      <th></th>\n",
       "      <th>Sepal Length</th>\n",
       "      <th>Sepal Width</th>\n",
       "      <th>Petal Length</th>\n",
       "      <th>Petal Width</th>\n",
       "      <th>Name</th>\n",
       "    </tr>\n",
       "  </thead>\n",
       "  <tbody>\n",
       "    <tr>\n",
       "      <th>0</th>\n",
       "      <td>5.1</td>\n",
       "      <td>3.5</td>\n",
       "      <td>1.4</td>\n",
       "      <td>0.2</td>\n",
       "      <td>Iris-setosa</td>\n",
       "    </tr>\n",
       "    <tr>\n",
       "      <th>1</th>\n",
       "      <td>4.9</td>\n",
       "      <td>3.0</td>\n",
       "      <td>1.4</td>\n",
       "      <td>0.2</td>\n",
       "      <td>Iris-setosa</td>\n",
       "    </tr>\n",
       "    <tr>\n",
       "      <th>2</th>\n",
       "      <td>4.7</td>\n",
       "      <td>3.2</td>\n",
       "      <td>1.3</td>\n",
       "      <td>0.2</td>\n",
       "      <td>Iris-setosa</td>\n",
       "    </tr>\n",
       "    <tr>\n",
       "      <th>3</th>\n",
       "      <td>4.6</td>\n",
       "      <td>3.1</td>\n",
       "      <td>1.5</td>\n",
       "      <td>0.2</td>\n",
       "      <td>Iris-setosa</td>\n",
       "    </tr>\n",
       "    <tr>\n",
       "      <th>4</th>\n",
       "      <td>5.0</td>\n",
       "      <td>3.6</td>\n",
       "      <td>1.4</td>\n",
       "      <td>0.2</td>\n",
       "      <td>Iris-setosa</td>\n",
       "    </tr>\n",
       "  </tbody>\n",
       "</table>\n",
       "</div>"
      ],
      "text/plain": [
       "   Sepal Length  Sepal Width  Petal Length  Petal Width         Name\n",
       "0           5.1          3.5           1.4          0.2  Iris-setosa\n",
       "1           4.9          3.0           1.4          0.2  Iris-setosa\n",
       "2           4.7          3.2           1.3          0.2  Iris-setosa\n",
       "3           4.6          3.1           1.5          0.2  Iris-setosa\n",
       "4           5.0          3.6           1.4          0.2  Iris-setosa"
      ]
     },
     "execution_count": 4,
     "metadata": {},
     "output_type": "execute_result"
    }
   ],
   "source": [
    "df.head()"
   ]
  },
  {
   "cell_type": "code",
   "execution_count": 5,
   "metadata": {},
   "outputs": [
    {
     "name": "stdout",
     "output_type": "stream",
     "text": [
      "<class 'pandas.core.frame.DataFrame'>\n",
      "RangeIndex: 150 entries, 0 to 149\n",
      "Data columns (total 5 columns):\n",
      " #   Column        Non-Null Count  Dtype  \n",
      "---  ------        --------------  -----  \n",
      " 0   Sepal Length  150 non-null    float64\n",
      " 1   Sepal Width   150 non-null    float64\n",
      " 2   Petal Length  150 non-null    float64\n",
      " 3   Petal Width   150 non-null    float64\n",
      " 4   Name          150 non-null    object \n",
      "dtypes: float64(4), object(1)\n",
      "memory usage: 6.0+ KB\n"
     ]
    }
   ],
   "source": [
    "df.info()"
   ]
  },
  {
   "cell_type": "markdown",
   "metadata": {},
   "source": [
    "**Features in this dataset:**\n",
    "1. Sepal Length - float\n",
    "2. Sepal Width - float\n",
    "3. Petal Length - float\n",
    "4. Petal Width - float"
   ]
  },
  {
   "cell_type": "markdown",
   "metadata": {},
   "source": [
    "**Statistical Summary for  each  numeric  feature  available  in  the  dataset**"
   ]
  },
  {
   "cell_type": "code",
   "execution_count": 6,
   "metadata": {},
   "outputs": [
    {
     "data": {
      "text/html": [
       "<div>\n",
       "<style scoped>\n",
       "    .dataframe tbody tr th:only-of-type {\n",
       "        vertical-align: middle;\n",
       "    }\n",
       "\n",
       "    .dataframe tbody tr th {\n",
       "        vertical-align: top;\n",
       "    }\n",
       "\n",
       "    .dataframe thead th {\n",
       "        text-align: right;\n",
       "    }\n",
       "</style>\n",
       "<table border=\"1\" class=\"dataframe\">\n",
       "  <thead>\n",
       "    <tr style=\"text-align: right;\">\n",
       "      <th></th>\n",
       "      <th>mean</th>\n",
       "      <th>sum</th>\n",
       "      <th>max</th>\n",
       "      <th>min</th>\n",
       "      <th>std</th>\n",
       "    </tr>\n",
       "  </thead>\n",
       "  <tbody>\n",
       "    <tr>\n",
       "      <th>Sepal Length</th>\n",
       "      <td>5.843333</td>\n",
       "      <td>876.5</td>\n",
       "      <td>7.9</td>\n",
       "      <td>4.3</td>\n",
       "      <td>0.828066</td>\n",
       "    </tr>\n",
       "    <tr>\n",
       "      <th>Sepal Width</th>\n",
       "      <td>3.054000</td>\n",
       "      <td>458.1</td>\n",
       "      <td>4.4</td>\n",
       "      <td>2.0</td>\n",
       "      <td>0.433594</td>\n",
       "    </tr>\n",
       "    <tr>\n",
       "      <th>Petal Length</th>\n",
       "      <td>3.758667</td>\n",
       "      <td>563.8</td>\n",
       "      <td>6.9</td>\n",
       "      <td>1.0</td>\n",
       "      <td>1.764420</td>\n",
       "    </tr>\n",
       "    <tr>\n",
       "      <th>Petal Width</th>\n",
       "      <td>1.198667</td>\n",
       "      <td>179.8</td>\n",
       "      <td>2.5</td>\n",
       "      <td>0.1</td>\n",
       "      <td>0.763161</td>\n",
       "    </tr>\n",
       "  </tbody>\n",
       "</table>\n",
       "</div>"
      ],
      "text/plain": [
       "                  mean    sum  max  min       std\n",
       "Sepal Length  5.843333  876.5  7.9  4.3  0.828066\n",
       "Sepal Width   3.054000  458.1  4.4  2.0  0.433594\n",
       "Petal Length  3.758667  563.8  6.9  1.0  1.764420\n",
       "Petal Width   1.198667  179.8  2.5  0.1  0.763161"
      ]
     },
     "execution_count": 6,
     "metadata": {},
     "output_type": "execute_result"
    }
   ],
   "source": [
    "df.agg(['mean','sum','max','min','std'])[['Sepal Length','Sepal Width','Petal Length','Petal Width']].transpose()"
   ]
  },
  {
   "cell_type": "code",
   "execution_count": 7,
   "metadata": {},
   "outputs": [
    {
     "data": {
      "text/html": [
       "<div>\n",
       "<style scoped>\n",
       "    .dataframe tbody tr th:only-of-type {\n",
       "        vertical-align: middle;\n",
       "    }\n",
       "\n",
       "    .dataframe tbody tr th {\n",
       "        vertical-align: top;\n",
       "    }\n",
       "\n",
       "    .dataframe thead th {\n",
       "        text-align: right;\n",
       "    }\n",
       "</style>\n",
       "<table border=\"1\" class=\"dataframe\">\n",
       "  <thead>\n",
       "    <tr style=\"text-align: right;\">\n",
       "      <th></th>\n",
       "      <th>Sepal Length</th>\n",
       "      <th>Sepal Width</th>\n",
       "      <th>Petal Length</th>\n",
       "      <th>Petal Width</th>\n",
       "    </tr>\n",
       "  </thead>\n",
       "  <tbody>\n",
       "    <tr>\n",
       "      <th>count</th>\n",
       "      <td>150.000000</td>\n",
       "      <td>150.000000</td>\n",
       "      <td>150.000000</td>\n",
       "      <td>150.000000</td>\n",
       "    </tr>\n",
       "    <tr>\n",
       "      <th>mean</th>\n",
       "      <td>5.843333</td>\n",
       "      <td>3.054000</td>\n",
       "      <td>3.758667</td>\n",
       "      <td>1.198667</td>\n",
       "    </tr>\n",
       "    <tr>\n",
       "      <th>std</th>\n",
       "      <td>0.828066</td>\n",
       "      <td>0.433594</td>\n",
       "      <td>1.764420</td>\n",
       "      <td>0.763161</td>\n",
       "    </tr>\n",
       "    <tr>\n",
       "      <th>min</th>\n",
       "      <td>4.300000</td>\n",
       "      <td>2.000000</td>\n",
       "      <td>1.000000</td>\n",
       "      <td>0.100000</td>\n",
       "    </tr>\n",
       "    <tr>\n",
       "      <th>25%</th>\n",
       "      <td>5.100000</td>\n",
       "      <td>2.800000</td>\n",
       "      <td>1.600000</td>\n",
       "      <td>0.300000</td>\n",
       "    </tr>\n",
       "    <tr>\n",
       "      <th>50%</th>\n",
       "      <td>5.800000</td>\n",
       "      <td>3.000000</td>\n",
       "      <td>4.350000</td>\n",
       "      <td>1.300000</td>\n",
       "    </tr>\n",
       "    <tr>\n",
       "      <th>75%</th>\n",
       "      <td>6.400000</td>\n",
       "      <td>3.300000</td>\n",
       "      <td>5.100000</td>\n",
       "      <td>1.800000</td>\n",
       "    </tr>\n",
       "    <tr>\n",
       "      <th>max</th>\n",
       "      <td>7.900000</td>\n",
       "      <td>4.400000</td>\n",
       "      <td>6.900000</td>\n",
       "      <td>2.500000</td>\n",
       "    </tr>\n",
       "  </tbody>\n",
       "</table>\n",
       "</div>"
      ],
      "text/plain": [
       "       Sepal Length  Sepal Width  Petal Length  Petal Width\n",
       "count    150.000000   150.000000    150.000000   150.000000\n",
       "mean       5.843333     3.054000      3.758667     1.198667\n",
       "std        0.828066     0.433594      1.764420     0.763161\n",
       "min        4.300000     2.000000      1.000000     0.100000\n",
       "25%        5.100000     2.800000      1.600000     0.300000\n",
       "50%        5.800000     3.000000      4.350000     1.300000\n",
       "75%        6.400000     3.300000      5.100000     1.800000\n",
       "max        7.900000     4.400000      6.900000     2.500000"
      ]
     },
     "execution_count": 7,
     "metadata": {},
     "output_type": "execute_result"
    }
   ],
   "source": [
    "df.describe()"
   ]
  },
  {
   "cell_type": "markdown",
   "metadata": {},
   "source": [
    "### **1.2 Data Visualization**"
   ]
  },
  {
   "cell_type": "markdown",
   "metadata": {},
   "source": [
    "**The below histograms are plots for each numeric feature in the dataset. A histogram provides a graphical representation of the distribution of the data. The histograms below have default number of bins.**"
   ]
  },
  {
   "cell_type": "code",
   "execution_count": 8,
   "metadata": {},
   "outputs": [
    {
     "data": {
      "text/plain": [
       "<Figure size 720x504 with 0 Axes>"
      ]
     },
     "execution_count": 8,
     "metadata": {},
     "output_type": "execute_result"
    },
    {
     "data": {
      "text/plain": [
       "<Figure size 720x504 with 0 Axes>"
      ]
     },
     "metadata": {},
     "output_type": "display_data"
    }
   ],
   "source": [
    "plt.figure(figsize = (10, 7)) "
   ]
  },
  {
   "cell_type": "code",
   "execution_count": 9,
   "metadata": {},
   "outputs": [
    {
     "data": {
      "text/plain": [
       "<matplotlib.axes._subplots.AxesSubplot at 0x7fcd2b6fdda0>"
      ]
     },
     "execution_count": 9,
     "metadata": {},
     "output_type": "execute_result"
    },
    {
     "data": {
      "image/png": "[encoded data removed]",
      "text/plain": [
       "<Figure size 432x288 with 1 Axes>"
      ]
     },
     "metadata": {
      "needs_background": "light"
     },
     "output_type": "display_data"
    }
   ],
   "source": [
    "plt.title('Sepal Length (cm) Histogram')\n",
    "plt.xlabel('Sepal Length in cm')\n",
    "plt.ylabel('Count')\n",
    "df['Sepal Length'].hist()"
   ]
  },
  {
   "cell_type": "code",
   "execution_count": 10,
   "metadata": {},
   "outputs": [
    {
     "data": {
      "text/plain": [
       "<matplotlib.axes._subplots.AxesSubplot at 0x7fcd2915ff28>"
      ]
     },
     "execution_count": 10,
     "metadata": {},
     "output_type": "execute_result"
    },
    {
     "data": {
      "image/png": "[encoded data removed]",
      "text/plain": [
       "<Figure size 432x288 with 1 Axes>"
      ]
     },
     "metadata": {
      "needs_background": "light"
     },
     "output_type": "display_data"
    }
   ],
   "source": [
    "plt.title('Sepal Width (cm) Histogram')\n",
    "plt.xlabel('Sepal Width in cm')\n",
    "plt.ylabel('Count')\n",
    "df['Sepal Width'].hist()"
   ]
  },
  {
   "cell_type": "code",
   "execution_count": 11,
   "metadata": {},
   "outputs": [
    {
     "data": {
      "text/plain": [
       "<matplotlib.axes._subplots.AxesSubplot at 0x7fcd2914ec88>"
      ]
     },
     "execution_count": 11,
     "metadata": {},
     "output_type": "execute_result"
    },
    {
     "data": {
      "image/png": "[encoded data removed]",
      "text/plain": [
       "<Figure size 432x288 with 1 Axes>"
      ]
     },
     "metadata": {
      "needs_background": "light"
     },
     "output_type": "display_data"
    }
   ],
   "source": [
    "plt.title('Petal Length (cm) Histogram')\n",
    "plt.xlabel('Petal Length in cm')\n",
    "plt.ylabel('Count')\n",
    "df['Petal Length'].hist()"
   ]
  },
  {
   "cell_type": "code",
   "execution_count": 12,
   "metadata": {},
   "outputs": [
    {
     "data": {
      "text/plain": [
       "<matplotlib.axes._subplots.AxesSubplot at 0x7fcd290166d8>"
      ]
     },
     "execution_count": 12,
     "metadata": {},
     "output_type": "execute_result"
    },
    {
     "data": {
      "image/png": "[encoded data removed]",
      "text/plain": [
       "<Figure size 432x288 with 1 Axes>"
      ]
     },
     "metadata": {
      "needs_background": "light"
     },
     "output_type": "display_data"
    }
   ],
   "source": [
    "plt.title('Petal Width (cm) Histogram')\n",
    "plt.xlabel('Petal Width in cm')\n",
    "plt.ylabel('Count')\n",
    "df['Petal Width'].hist()"
   ]
  },
  {
   "cell_type": "code",
   "execution_count": 13,
   "metadata": {},
   "outputs": [
    {
     "data": {
      "text/plain": [
       "array([[<matplotlib.axes._subplots.AxesSubplot object at 0x7fcd28fa0390>,\n",
       "        <matplotlib.axes._subplots.AxesSubplot object at 0x7fcd28fc0c88>],\n",
       "       [<matplotlib.axes._subplots.AxesSubplot object at 0x7fcd28f72ef0>,\n",
       "        <matplotlib.axes._subplots.AxesSubplot object at 0x7fcd28f33198>]],\n",
       "      dtype=object)"
      ]
     },
     "execution_count": 13,
     "metadata": {},
     "output_type": "execute_result"
    },
    {
     "data": {
      "image/png": "[encoded data removed]",
      "text/plain": [
       "<Figure size 432x288 with 4 Axes>"
      ]
     },
     "metadata": {
      "needs_background": "light"
     },
     "output_type": "display_data"
    }
   ],
   "source": [
    "df.hist()"
   ]
  },
  {
   "cell_type": "code",
   "execution_count": 14,
   "metadata": {},
   "outputs": [
    {
     "data": {
      "text/plain": [
       "<matplotlib.axes._subplots.AxesSubplot at 0x7fcd28e7c978>"
      ]
     },
     "execution_count": 14,
     "metadata": {},
     "output_type": "execute_result"
    },
    {
     "data": {
      "image/png": "[encoded data removed]",
      "text/plain": [
       "<Figure size 1008x504 with 1 Axes>"
      ]
     },
     "metadata": {
      "needs_background": "light"
     },
     "output_type": "display_data"
    }
   ],
   "source": [
    "plt.figure(figsize=(14,7))\n",
    "df.boxplot()"
   ]
  },
  {
   "cell_type": "markdown",
   "metadata": {},
   "source": [
    "## **2. Ames, Iowa Housing Dataset**"
   ]
  },
  {
   "cell_type": "code",
   "execution_count": 15,
   "metadata": {},
   "outputs": [],
   "source": [
    "import pandas as pd\n",
    "import numpy as np\n",
    "from sklearn import feature_selection, preprocessing\n",
    "import matplotlib.pyplot as plt\n",
    "pd.set_option(\"display.max_columns\", 200)\n",
    "pd.set_option('display.max_rows', 200)"
   ]
  },
  {
   "cell_type": "code",
   "execution_count": 16,
   "metadata": {},
   "outputs": [],
   "source": [
    "url = \"https://raw.githubusercontent.com/cs6220/cs6220.spring2019/master/data/AmesHousing.txt\"\n",
    "df_2 = pd.read_csv(url, sep=\"\\t\")"
   ]
  },
  {
   "cell_type": "markdown",
   "metadata": {},
   "source": [
    "### **2.1 Imputation**"
   ]
  },
  {
   "cell_type": "markdown",
   "metadata": {},
   "source": [
    "**Calculating the sum of all null values per category to identify all the missing features.**"
   ]
  },
  {
   "cell_type": "code",
   "execution_count": 17,
   "metadata": {},
   "outputs": [
    {
     "data": {
      "text/plain": [
       "27"
      ]
     },
     "execution_count": 17,
     "metadata": {},
     "output_type": "execute_result"
    }
   ],
   "source": [
    "len(df_2.columns[df_2.isnull().any()])"
   ]
  },
  {
   "cell_type": "markdown",
   "metadata": {},
   "source": [
    "#### **Filling each nominal missing feature with the string \"Missing\" using the fillna method for all categories of type 'object'.**\n",
    "\n",
    "**I saved all the 'object' type column headers under obj_cols in case I need it again for other manipulation.**"
   ]
  },
  {
   "cell_type": "code",
   "execution_count": 18,
   "metadata": {},
   "outputs": [],
   "source": [
    "obj_cols = df_2.columns[df_2.dtypes == object]\n",
    "df_2[obj_cols] = df_2[obj_cols].fillna(\"Missing\")"
   ]
  },
  {
   "cell_type": "markdown",
   "metadata": {},
   "source": [
    "Checking of the fillna worked:"
   ]
  },
  {
   "cell_type": "code",
   "execution_count": 19,
   "metadata": {},
   "outputs": [
    {
     "data": {
      "text/plain": [
       "Order                0\n",
       "PID                  0\n",
       "MS SubClass          0\n",
       "MS Zoning            0\n",
       "Lot Frontage       490\n",
       "Lot Area             0\n",
       "Street               0\n",
       "Alley                0\n",
       "Lot Shape            0\n",
       "Land Contour         0\n",
       "Utilities            0\n",
       "Lot Config           0\n",
       "Land Slope           0\n",
       "Neighborhood         0\n",
       "Condition 1          0\n",
       "Condition 2          0\n",
       "Bldg Type            0\n",
       "House Style          0\n",
       "Overall Qual         0\n",
       "Overall Cond         0\n",
       "Year Built           0\n",
       "Year Remod/Add       0\n",
       "Roof Style           0\n",
       "Roof Matl            0\n",
       "Exterior 1st         0\n",
       "Exterior 2nd         0\n",
       "Mas Vnr Type         0\n",
       "Mas Vnr Area        23\n",
       "Exter Qual           0\n",
       "Exter Cond           0\n",
       "Foundation           0\n",
       "Bsmt Qual            0\n",
       "Bsmt Cond            0\n",
       "Bsmt Exposure        0\n",
       "BsmtFin Type 1       0\n",
       "BsmtFin SF 1         1\n",
       "BsmtFin Type 2       0\n",
       "BsmtFin SF 2         1\n",
       "Bsmt Unf SF          1\n",
       "Total Bsmt SF        1\n",
       "Heating              0\n",
       "Heating QC           0\n",
       "Central Air          0\n",
       "Electrical           0\n",
       "1st Flr SF           0\n",
       "2nd Flr SF           0\n",
       "Low Qual Fin SF      0\n",
       "Gr Liv Area          0\n",
       "Bsmt Full Bath       2\n",
       "Bsmt Half Bath       2\n",
       "Full Bath            0\n",
       "Half Bath            0\n",
       "Bedroom AbvGr        0\n",
       "Kitchen AbvGr        0\n",
       "Kitchen Qual         0\n",
       "TotRms AbvGrd        0\n",
       "Functional           0\n",
       "Fireplaces           0\n",
       "Fireplace Qu         0\n",
       "Garage Type          0\n",
       "Garage Yr Blt      159\n",
       "Garage Finish        0\n",
       "Garage Cars          1\n",
       "Garage Area          1\n",
       "Garage Qual          0\n",
       "Garage Cond          0\n",
       "Paved Drive          0\n",
       "Wood Deck SF         0\n",
       "Open Porch SF        0\n",
       "Enclosed Porch       0\n",
       "3Ssn Porch           0\n",
       "Screen Porch         0\n",
       "Pool Area            0\n",
       "Pool QC              0\n",
       "Fence                0\n",
       "Misc Feature         0\n",
       "Misc Val             0\n",
       "Mo Sold              0\n",
       "Yr Sold              0\n",
       "Sale Type            0\n",
       "Sale Condition       0\n",
       "SalePrice            0\n",
       "dtype: int64"
      ]
     },
     "execution_count": 19,
     "metadata": {},
     "output_type": "execute_result"
    }
   ],
   "source": [
    "df_2.isnull().sum()"
   ]
  },
  {
   "cell_type": "code",
   "execution_count": 20,
   "metadata": {},
   "outputs": [
    {
     "data": {
      "text/html": [
       "<div>\n",
       "<style scoped>\n",
       "    .dataframe tbody tr th:only-of-type {\n",
       "        vertical-align: middle;\n",
       "    }\n",
       "\n",
       "    .dataframe tbody tr th {\n",
       "        vertical-align: top;\n",
       "    }\n",
       "\n",
       "    .dataframe thead th {\n",
       "        text-align: right;\n",
       "    }\n",
       "</style>\n",
       "<table border=\"1\" class=\"dataframe\">\n",
       "  <thead>\n",
       "    <tr style=\"text-align: right;\">\n",
       "      <th></th>\n",
       "      <th>Order</th>\n",
       "      <th>PID</th>\n",
       "      <th>MS SubClass</th>\n",
       "      <th>MS Zoning</th>\n",
       "      <th>Lot Frontage</th>\n",
       "      <th>Lot Area</th>\n",
       "      <th>Street</th>\n",
       "      <th>Alley</th>\n",
       "      <th>Lot Shape</th>\n",
       "      <th>Land Contour</th>\n",
       "      <th>Utilities</th>\n",
       "      <th>Lot Config</th>\n",
       "      <th>Land Slope</th>\n",
       "      <th>Neighborhood</th>\n",
       "      <th>Condition 1</th>\n",
       "      <th>Condition 2</th>\n",
       "      <th>Bldg Type</th>\n",
       "      <th>House Style</th>\n",
       "      <th>Overall Qual</th>\n",
       "      <th>Overall Cond</th>\n",
       "      <th>Year Built</th>\n",
       "      <th>Year Remod/Add</th>\n",
       "      <th>Roof Style</th>\n",
       "      <th>Roof Matl</th>\n",
       "      <th>Exterior 1st</th>\n",
       "      <th>Exterior 2nd</th>\n",
       "      <th>Mas Vnr Type</th>\n",
       "      <th>Mas Vnr Area</th>\n",
       "      <th>Exter Qual</th>\n",
       "      <th>Exter Cond</th>\n",
       "      <th>Foundation</th>\n",
       "      <th>Bsmt Qual</th>\n",
       "      <th>Bsmt Cond</th>\n",
       "      <th>Bsmt Exposure</th>\n",
       "      <th>BsmtFin Type 1</th>\n",
       "      <th>BsmtFin SF 1</th>\n",
       "      <th>BsmtFin Type 2</th>\n",
       "      <th>BsmtFin SF 2</th>\n",
       "      <th>Bsmt Unf SF</th>\n",
       "      <th>Total Bsmt SF</th>\n",
       "      <th>Heating</th>\n",
       "      <th>Heating QC</th>\n",
       "      <th>Central Air</th>\n",
       "      <th>Electrical</th>\n",
       "      <th>1st Flr SF</th>\n",
       "      <th>2nd Flr SF</th>\n",
       "      <th>Low Qual Fin SF</th>\n",
       "      <th>Gr Liv Area</th>\n",
       "      <th>Bsmt Full Bath</th>\n",
       "      <th>Bsmt Half Bath</th>\n",
       "      <th>Full Bath</th>\n",
       "      <th>Half Bath</th>\n",
       "      <th>Bedroom AbvGr</th>\n",
       "      <th>Kitchen AbvGr</th>\n",
       "      <th>Kitchen Qual</th>\n",
       "      <th>TotRms AbvGrd</th>\n",
       "      <th>Functional</th>\n",
       "      <th>Fireplaces</th>\n",
       "      <th>Fireplace Qu</th>\n",
       "      <th>Garage Type</th>\n",
       "      <th>Garage Yr Blt</th>\n",
       "      <th>Garage Finish</th>\n",
       "      <th>Garage Cars</th>\n",
       "      <th>Garage Area</th>\n",
       "      <th>Garage Qual</th>\n",
       "      <th>Garage Cond</th>\n",
       "      <th>Paved Drive</th>\n",
       "      <th>Wood Deck SF</th>\n",
       "      <th>Open Porch SF</th>\n",
       "      <th>Enclosed Porch</th>\n",
       "      <th>3Ssn Porch</th>\n",
       "      <th>Screen Porch</th>\n",
       "      <th>Pool Area</th>\n",
       "      <th>Pool QC</th>\n",
       "      <th>Fence</th>\n",
       "      <th>Misc Feature</th>\n",
       "      <th>Misc Val</th>\n",
       "      <th>Mo Sold</th>\n",
       "      <th>Yr Sold</th>\n",
       "      <th>Sale Type</th>\n",
       "      <th>Sale Condition</th>\n",
       "      <th>SalePrice</th>\n",
       "    </tr>\n",
       "  </thead>\n",
       "  <tbody>\n",
       "    <tr>\n",
       "      <th>0</th>\n",
       "      <td>1</td>\n",
       "      <td>526301100</td>\n",
       "      <td>20</td>\n",
       "      <td>RL</td>\n",
       "      <td>141.0</td>\n",
       "      <td>31770</td>\n",
       "      <td>Pave</td>\n",
       "      <td>Missing</td>\n",
       "      <td>IR1</td>\n",
       "      <td>Lvl</td>\n",
       "      <td>AllPub</td>\n",
       "      <td>Corner</td>\n",
       "      <td>Gtl</td>\n",
       "      <td>NAmes</td>\n",
       "      <td>Norm</td>\n",
       "      <td>Norm</td>\n",
       "      <td>1Fam</td>\n",
       "      <td>1Story</td>\n",
       "      <td>6</td>\n",
       "      <td>5</td>\n",
       "      <td>1960</td>\n",
       "      <td>1960</td>\n",
       "      <td>Hip</td>\n",
       "      <td>CompShg</td>\n",
       "      <td>BrkFace</td>\n",
       "      <td>Plywood</td>\n",
       "      <td>Stone</td>\n",
       "      <td>112.0</td>\n",
       "      <td>TA</td>\n",
       "      <td>TA</td>\n",
       "      <td>CBlock</td>\n",
       "      <td>TA</td>\n",
       "      <td>Gd</td>\n",
       "      <td>Gd</td>\n",
       "      <td>BLQ</td>\n",
       "      <td>639.0</td>\n",
       "      <td>Unf</td>\n",
       "      <td>0.0</td>\n",
       "      <td>441.0</td>\n",
       "      <td>1080.0</td>\n",
       "      <td>GasA</td>\n",
       "      <td>Fa</td>\n",
       "      <td>Y</td>\n",
       "      <td>SBrkr</td>\n",
       "      <td>1656</td>\n",
       "      <td>0</td>\n",
       "      <td>0</td>\n",
       "      <td>1656</td>\n",
       "      <td>1.0</td>\n",
       "      <td>0.0</td>\n",
       "      <td>1</td>\n",
       "      <td>0</td>\n",
       "      <td>3</td>\n",
       "      <td>1</td>\n",
       "      <td>TA</td>\n",
       "      <td>7</td>\n",
       "      <td>Typ</td>\n",
       "      <td>2</td>\n",
       "      <td>Gd</td>\n",
       "      <td>Attchd</td>\n",
       "      <td>1960.0</td>\n",
       "      <td>Fin</td>\n",
       "      <td>2.0</td>\n",
       "      <td>528.0</td>\n",
       "      <td>TA</td>\n",
       "      <td>TA</td>\n",
       "      <td>P</td>\n",
       "      <td>210</td>\n",
       "      <td>62</td>\n",
       "      <td>0</td>\n",
       "      <td>0</td>\n",
       "      <td>0</td>\n",
       "      <td>0</td>\n",
       "      <td>Missing</td>\n",
       "      <td>Missing</td>\n",
       "      <td>Missing</td>\n",
       "      <td>0</td>\n",
       "      <td>5</td>\n",
       "      <td>2010</td>\n",
       "      <td>WD</td>\n",
       "      <td>Normal</td>\n",
       "      <td>215000</td>\n",
       "    </tr>\n",
       "    <tr>\n",
       "      <th>1</th>\n",
       "      <td>2</td>\n",
       "      <td>526350040</td>\n",
       "      <td>20</td>\n",
       "      <td>RH</td>\n",
       "      <td>80.0</td>\n",
       "      <td>11622</td>\n",
       "      <td>Pave</td>\n",
       "      <td>Missing</td>\n",
       "      <td>Reg</td>\n",
       "      <td>Lvl</td>\n",
       "      <td>AllPub</td>\n",
       "      <td>Inside</td>\n",
       "      <td>Gtl</td>\n",
       "      <td>NAmes</td>\n",
       "      <td>Feedr</td>\n",
       "      <td>Norm</td>\n",
       "      <td>1Fam</td>\n",
       "      <td>1Story</td>\n",
       "      <td>5</td>\n",
       "      <td>6</td>\n",
       "      <td>1961</td>\n",
       "      <td>1961</td>\n",
       "      <td>Gable</td>\n",
       "      <td>CompShg</td>\n",
       "      <td>VinylSd</td>\n",
       "      <td>VinylSd</td>\n",
       "      <td>None</td>\n",
       "      <td>0.0</td>\n",
       "      <td>TA</td>\n",
       "      <td>TA</td>\n",
       "      <td>CBlock</td>\n",
       "      <td>TA</td>\n",
       "      <td>TA</td>\n",
       "      <td>No</td>\n",
       "      <td>Rec</td>\n",
       "      <td>468.0</td>\n",
       "      <td>LwQ</td>\n",
       "      <td>144.0</td>\n",
       "      <td>270.0</td>\n",
       "      <td>882.0</td>\n",
       "      <td>GasA</td>\n",
       "      <td>TA</td>\n",
       "      <td>Y</td>\n",
       "      <td>SBrkr</td>\n",
       "      <td>896</td>\n",
       "      <td>0</td>\n",
       "      <td>0</td>\n",
       "      <td>896</td>\n",
       "      <td>0.0</td>\n",
       "      <td>0.0</td>\n",
       "      <td>1</td>\n",
       "      <td>0</td>\n",
       "      <td>2</td>\n",
       "      <td>1</td>\n",
       "      <td>TA</td>\n",
       "      <td>5</td>\n",
       "      <td>Typ</td>\n",
       "      <td>0</td>\n",
       "      <td>Missing</td>\n",
       "      <td>Attchd</td>\n",
       "      <td>1961.0</td>\n",
       "      <td>Unf</td>\n",
       "      <td>1.0</td>\n",
       "      <td>730.0</td>\n",
       "      <td>TA</td>\n",
       "      <td>TA</td>\n",
       "      <td>Y</td>\n",
       "      <td>140</td>\n",
       "      <td>0</td>\n",
       "      <td>0</td>\n",
       "      <td>0</td>\n",
       "      <td>120</td>\n",
       "      <td>0</td>\n",
       "      <td>Missing</td>\n",
       "      <td>MnPrv</td>\n",
       "      <td>Missing</td>\n",
       "      <td>0</td>\n",
       "      <td>6</td>\n",
       "      <td>2010</td>\n",
       "      <td>WD</td>\n",
       "      <td>Normal</td>\n",
       "      <td>105000</td>\n",
       "    </tr>\n",
       "    <tr>\n",
       "      <th>2</th>\n",
       "      <td>3</td>\n",
       "      <td>526351010</td>\n",
       "      <td>20</td>\n",
       "      <td>RL</td>\n",
       "      <td>81.0</td>\n",
       "      <td>14267</td>\n",
       "      <td>Pave</td>\n",
       "      <td>Missing</td>\n",
       "      <td>IR1</td>\n",
       "      <td>Lvl</td>\n",
       "      <td>AllPub</td>\n",
       "      <td>Corner</td>\n",
       "      <td>Gtl</td>\n",
       "      <td>NAmes</td>\n",
       "      <td>Norm</td>\n",
       "      <td>Norm</td>\n",
       "      <td>1Fam</td>\n",
       "      <td>1Story</td>\n",
       "      <td>6</td>\n",
       "      <td>6</td>\n",
       "      <td>1958</td>\n",
       "      <td>1958</td>\n",
       "      <td>Hip</td>\n",
       "      <td>CompShg</td>\n",
       "      <td>Wd Sdng</td>\n",
       "      <td>Wd Sdng</td>\n",
       "      <td>BrkFace</td>\n",
       "      <td>108.0</td>\n",
       "      <td>TA</td>\n",
       "      <td>TA</td>\n",
       "      <td>CBlock</td>\n",
       "      <td>TA</td>\n",
       "      <td>TA</td>\n",
       "      <td>No</td>\n",
       "      <td>ALQ</td>\n",
       "      <td>923.0</td>\n",
       "      <td>Unf</td>\n",
       "      <td>0.0</td>\n",
       "      <td>406.0</td>\n",
       "      <td>1329.0</td>\n",
       "      <td>GasA</td>\n",
       "      <td>TA</td>\n",
       "      <td>Y</td>\n",
       "      <td>SBrkr</td>\n",
       "      <td>1329</td>\n",
       "      <td>0</td>\n",
       "      <td>0</td>\n",
       "      <td>1329</td>\n",
       "      <td>0.0</td>\n",
       "      <td>0.0</td>\n",
       "      <td>1</td>\n",
       "      <td>1</td>\n",
       "      <td>3</td>\n",
       "      <td>1</td>\n",
       "      <td>Gd</td>\n",
       "      <td>6</td>\n",
       "      <td>Typ</td>\n",
       "      <td>0</td>\n",
       "      <td>Missing</td>\n",
       "      <td>Attchd</td>\n",
       "      <td>1958.0</td>\n",
       "      <td>Unf</td>\n",
       "      <td>1.0</td>\n",
       "      <td>312.0</td>\n",
       "      <td>TA</td>\n",
       "      <td>TA</td>\n",
       "      <td>Y</td>\n",
       "      <td>393</td>\n",
       "      <td>36</td>\n",
       "      <td>0</td>\n",
       "      <td>0</td>\n",
       "      <td>0</td>\n",
       "      <td>0</td>\n",
       "      <td>Missing</td>\n",
       "      <td>Missing</td>\n",
       "      <td>Gar2</td>\n",
       "      <td>12500</td>\n",
       "      <td>6</td>\n",
       "      <td>2010</td>\n",
       "      <td>WD</td>\n",
       "      <td>Normal</td>\n",
       "      <td>172000</td>\n",
       "    </tr>\n",
       "    <tr>\n",
       "      <th>3</th>\n",
       "      <td>4</td>\n",
       "      <td>526353030</td>\n",
       "      <td>20</td>\n",
       "      <td>RL</td>\n",
       "      <td>93.0</td>\n",
       "      <td>11160</td>\n",
       "      <td>Pave</td>\n",
       "      <td>Missing</td>\n",
       "      <td>Reg</td>\n",
       "      <td>Lvl</td>\n",
       "      <td>AllPub</td>\n",
       "      <td>Corner</td>\n",
       "      <td>Gtl</td>\n",
       "      <td>NAmes</td>\n",
       "      <td>Norm</td>\n",
       "      <td>Norm</td>\n",
       "      <td>1Fam</td>\n",
       "      <td>1Story</td>\n",
       "      <td>7</td>\n",
       "      <td>5</td>\n",
       "      <td>1968</td>\n",
       "      <td>1968</td>\n",
       "      <td>Hip</td>\n",
       "      <td>CompShg</td>\n",
       "      <td>BrkFace</td>\n",
       "      <td>BrkFace</td>\n",
       "      <td>None</td>\n",
       "      <td>0.0</td>\n",
       "      <td>Gd</td>\n",
       "      <td>TA</td>\n",
       "      <td>CBlock</td>\n",
       "      <td>TA</td>\n",
       "      <td>TA</td>\n",
       "      <td>No</td>\n",
       "      <td>ALQ</td>\n",
       "      <td>1065.0</td>\n",
       "      <td>Unf</td>\n",
       "      <td>0.0</td>\n",
       "      <td>1045.0</td>\n",
       "      <td>2110.0</td>\n",
       "      <td>GasA</td>\n",
       "      <td>Ex</td>\n",
       "      <td>Y</td>\n",
       "      <td>SBrkr</td>\n",
       "      <td>2110</td>\n",
       "      <td>0</td>\n",
       "      <td>0</td>\n",
       "      <td>2110</td>\n",
       "      <td>1.0</td>\n",
       "      <td>0.0</td>\n",
       "      <td>2</td>\n",
       "      <td>1</td>\n",
       "      <td>3</td>\n",
       "      <td>1</td>\n",
       "      <td>Ex</td>\n",
       "      <td>8</td>\n",
       "      <td>Typ</td>\n",
       "      <td>2</td>\n",
       "      <td>TA</td>\n",
       "      <td>Attchd</td>\n",
       "      <td>1968.0</td>\n",
       "      <td>Fin</td>\n",
       "      <td>2.0</td>\n",
       "      <td>522.0</td>\n",
       "      <td>TA</td>\n",
       "      <td>TA</td>\n",
       "      <td>Y</td>\n",
       "      <td>0</td>\n",
       "      <td>0</td>\n",
       "      <td>0</td>\n",
       "      <td>0</td>\n",
       "      <td>0</td>\n",
       "      <td>0</td>\n",
       "      <td>Missing</td>\n",
       "      <td>Missing</td>\n",
       "      <td>Missing</td>\n",
       "      <td>0</td>\n",
       "      <td>4</td>\n",
       "      <td>2010</td>\n",
       "      <td>WD</td>\n",
       "      <td>Normal</td>\n",
       "      <td>244000</td>\n",
       "    </tr>\n",
       "    <tr>\n",
       "      <th>4</th>\n",
       "      <td>5</td>\n",
       "      <td>527105010</td>\n",
       "      <td>60</td>\n",
       "      <td>RL</td>\n",
       "      <td>74.0</td>\n",
       "      <td>13830</td>\n",
       "      <td>Pave</td>\n",
       "      <td>Missing</td>\n",
       "      <td>IR1</td>\n",
       "      <td>Lvl</td>\n",
       "      <td>AllPub</td>\n",
       "      <td>Inside</td>\n",
       "      <td>Gtl</td>\n",
       "      <td>Gilbert</td>\n",
       "      <td>Norm</td>\n",
       "      <td>Norm</td>\n",
       "      <td>1Fam</td>\n",
       "      <td>2Story</td>\n",
       "      <td>5</td>\n",
       "      <td>5</td>\n",
       "      <td>1997</td>\n",
       "      <td>1998</td>\n",
       "      <td>Gable</td>\n",
       "      <td>CompShg</td>\n",
       "      <td>VinylSd</td>\n",
       "      <td>VinylSd</td>\n",
       "      <td>None</td>\n",
       "      <td>0.0</td>\n",
       "      <td>TA</td>\n",
       "      <td>TA</td>\n",
       "      <td>PConc</td>\n",
       "      <td>Gd</td>\n",
       "      <td>TA</td>\n",
       "      <td>No</td>\n",
       "      <td>GLQ</td>\n",
       "      <td>791.0</td>\n",
       "      <td>Unf</td>\n",
       "      <td>0.0</td>\n",
       "      <td>137.0</td>\n",
       "      <td>928.0</td>\n",
       "      <td>GasA</td>\n",
       "      <td>Gd</td>\n",
       "      <td>Y</td>\n",
       "      <td>SBrkr</td>\n",
       "      <td>928</td>\n",
       "      <td>701</td>\n",
       "      <td>0</td>\n",
       "      <td>1629</td>\n",
       "      <td>0.0</td>\n",
       "      <td>0.0</td>\n",
       "      <td>2</td>\n",
       "      <td>1</td>\n",
       "      <td>3</td>\n",
       "      <td>1</td>\n",
       "      <td>TA</td>\n",
       "      <td>6</td>\n",
       "      <td>Typ</td>\n",
       "      <td>1</td>\n",
       "      <td>TA</td>\n",
       "      <td>Attchd</td>\n",
       "      <td>1997.0</td>\n",
       "      <td>Fin</td>\n",
       "      <td>2.0</td>\n",
       "      <td>482.0</td>\n",
       "      <td>TA</td>\n",
       "      <td>TA</td>\n",
       "      <td>Y</td>\n",
       "      <td>212</td>\n",
       "      <td>34</td>\n",
       "      <td>0</td>\n",
       "      <td>0</td>\n",
       "      <td>0</td>\n",
       "      <td>0</td>\n",
       "      <td>Missing</td>\n",
       "      <td>MnPrv</td>\n",
       "      <td>Missing</td>\n",
       "      <td>0</td>\n",
       "      <td>3</td>\n",
       "      <td>2010</td>\n",
       "      <td>WD</td>\n",
       "      <td>Normal</td>\n",
       "      <td>189900</td>\n",
       "    </tr>\n",
       "  </tbody>\n",
       "</table>\n",
       "</div>"
      ],
      "text/plain": [
       "   Order        PID  MS SubClass MS Zoning  Lot Frontage  Lot Area Street  \\\n",
       "0      1  526301100           20        RL         141.0     31770   Pave   \n",
       "1      2  526350040           20        RH          80.0     11622   Pave   \n",
       "2      3  526351010           20        RL          81.0     14267   Pave   \n",
       "3      4  526353030           20        RL          93.0     11160   Pave   \n",
       "4      5  527105010           60        RL          74.0     13830   Pave   \n",
       "\n",
       "     Alley Lot Shape Land Contour Utilities Lot Config Land Slope  \\\n",
       "0  Missing       IR1          Lvl    AllPub     Corner        Gtl   \n",
       "1  Missing       Reg          Lvl    AllPub     Inside        Gtl   \n",
       "2  Missing       IR1          Lvl    AllPub     Corner        Gtl   \n",
       "3  Missing       Reg          Lvl    AllPub     Corner        Gtl   \n",
       "4  Missing       IR1          Lvl    AllPub     Inside        Gtl   \n",
       "\n",
       "  Neighborhood Condition 1 Condition 2 Bldg Type House Style  Overall Qual  \\\n",
       "0        NAmes        Norm        Norm      1Fam      1Story             6   \n",
       "1        NAmes       Feedr        Norm      1Fam      1Story             5   \n",
       "2        NAmes        Norm        Norm      1Fam      1Story             6   \n",
       "3        NAmes        Norm        Norm      1Fam      1Story             7   \n",
       "4      Gilbert        Norm        Norm      1Fam      2Story             5   \n",
       "\n",
       "   Overall Cond  Year Built  Year Remod/Add Roof Style Roof Matl Exterior 1st  \\\n",
       "0             5        1960            1960        Hip   CompShg      BrkFace   \n",
       "1             6        1961            1961      Gable   CompShg      VinylSd   \n",
       "2             6        1958            1958        Hip   CompShg      Wd Sdng   \n",
       "3             5        1968            1968        Hip   CompShg      BrkFace   \n",
       "4             5        1997            1998      Gable   CompShg      VinylSd   \n",
       "\n",
       "  Exterior 2nd Mas Vnr Type  Mas Vnr Area Exter Qual Exter Cond Foundation  \\\n",
       "0      Plywood        Stone         112.0         TA         TA     CBlock   \n",
       "1      VinylSd         None           0.0         TA         TA     CBlock   \n",
       "2      Wd Sdng      BrkFace         108.0         TA         TA     CBlock   \n",
       "3      BrkFace         None           0.0         Gd         TA     CBlock   \n",
       "4      VinylSd         None           0.0         TA         TA      PConc   \n",
       "\n",
       "  Bsmt Qual Bsmt Cond Bsmt Exposure BsmtFin Type 1  BsmtFin SF 1  \\\n",
       "0        TA        Gd            Gd            BLQ         639.0   \n",
       "1        TA        TA            No            Rec         468.0   \n",
       "2        TA        TA            No            ALQ         923.0   \n",
       "3        TA        TA            No            ALQ        1065.0   \n",
       "4        Gd        TA            No            GLQ         791.0   \n",
       "\n",
       "  BsmtFin Type 2  BsmtFin SF 2  Bsmt Unf SF  Total Bsmt SF Heating Heating QC  \\\n",
       "0            Unf           0.0        441.0         1080.0    GasA         Fa   \n",
       "1            LwQ         144.0        270.0          882.0    GasA         TA   \n",
       "2            Unf           0.0        406.0         1329.0    GasA         TA   \n",
       "3            Unf           0.0       1045.0         2110.0    GasA         Ex   \n",
       "4            Unf           0.0        137.0          928.0    GasA         Gd   \n",
       "\n",
       "  Central Air Electrical  1st Flr SF  2nd Flr SF  Low Qual Fin SF  \\\n",
       "0           Y      SBrkr        1656           0                0   \n",
       "1           Y      SBrkr         896           0                0   \n",
       "2           Y      SBrkr        1329           0                0   \n",
       "3           Y      SBrkr        2110           0                0   \n",
       "4           Y      SBrkr         928         701                0   \n",
       "\n",
       "   Gr Liv Area  Bsmt Full Bath  Bsmt Half Bath  Full Bath  Half Bath  \\\n",
       "0         1656             1.0             0.0          1          0   \n",
       "1          896             0.0             0.0          1          0   \n",
       "2         1329             0.0             0.0          1          1   \n",
       "3         2110             1.0             0.0          2          1   \n",
       "4         1629             0.0             0.0          2          1   \n",
       "\n",
       "   Bedroom AbvGr  Kitchen AbvGr Kitchen Qual  TotRms AbvGrd Functional  \\\n",
       "0              3              1           TA              7        Typ   \n",
       "1              2              1           TA              5        Typ   \n",
       "2              3              1           Gd              6        Typ   \n",
       "3              3              1           Ex              8        Typ   \n",
       "4              3              1           TA              6        Typ   \n",
       "\n",
       "   Fireplaces Fireplace Qu Garage Type  Garage Yr Blt Garage Finish  \\\n",
       "0           2           Gd      Attchd         1960.0           Fin   \n",
       "1           0      Missing      Attchd         1961.0           Unf   \n",
       "2           0      Missing      Attchd         1958.0           Unf   \n",
       "3           2           TA      Attchd         1968.0           Fin   \n",
       "4           1           TA      Attchd         1997.0           Fin   \n",
       "\n",
       "   Garage Cars  Garage Area Garage Qual Garage Cond Paved Drive  Wood Deck SF  \\\n",
       "0          2.0        528.0          TA          TA           P           210   \n",
       "1          1.0        730.0          TA          TA           Y           140   \n",
       "2          1.0        312.0          TA          TA           Y           393   \n",
       "3          2.0        522.0          TA          TA           Y             0   \n",
       "4          2.0        482.0          TA          TA           Y           212   \n",
       "\n",
       "   Open Porch SF  Enclosed Porch  3Ssn Porch  Screen Porch  Pool Area  \\\n",
       "0             62               0           0             0          0   \n",
       "1              0               0           0           120          0   \n",
       "2             36               0           0             0          0   \n",
       "3              0               0           0             0          0   \n",
       "4             34               0           0             0          0   \n",
       "\n",
       "   Pool QC    Fence Misc Feature  Misc Val  Mo Sold  Yr Sold Sale Type  \\\n",
       "0  Missing  Missing      Missing         0        5     2010       WD    \n",
       "1  Missing    MnPrv      Missing         0        6     2010       WD    \n",
       "2  Missing  Missing         Gar2     12500        6     2010       WD    \n",
       "3  Missing  Missing      Missing         0        4     2010       WD    \n",
       "4  Missing    MnPrv      Missing         0        3     2010       WD    \n",
       "\n",
       "  Sale Condition  SalePrice  \n",
       "0         Normal     215000  \n",
       "1         Normal     105000  \n",
       "2         Normal     172000  \n",
       "3         Normal     244000  \n",
       "4         Normal     189900  "
      ]
     },
     "execution_count": 20,
     "metadata": {},
     "output_type": "execute_result"
    }
   ],
   "source": [
    "df_2.head()"
   ]
  },
  {
   "cell_type": "markdown",
   "metadata": {},
   "source": [
    "#### **Interpolating numeric missing feature with the string \"Missing\" using the fillna method for all categories of type 'number'.**"
   ]
  },
  {
   "cell_type": "code",
   "execution_count": 21,
   "metadata": {},
   "outputs": [],
   "source": [
    "df_numeric_cols = df_2.select_dtypes(include=np.number).interpolate(method='linear')\n",
    "df_numeric_cols.drop(df_numeric_cols.columns[[0,1]],inplace=True,axis=1)"
   ]
  },
  {
   "cell_type": "markdown",
   "metadata": {},
   "source": [
    "**Checking of the interpolate worked:**"
   ]
  },
  {
   "cell_type": "code",
   "execution_count": 22,
   "metadata": {},
   "outputs": [
    {
     "data": {
      "text/plain": [
       "Order                0\n",
       "PID                  0\n",
       "MS SubClass          0\n",
       "MS Zoning            0\n",
       "Lot Frontage       490\n",
       "Lot Area             0\n",
       "Street               0\n",
       "Alley                0\n",
       "Lot Shape            0\n",
       "Land Contour         0\n",
       "Utilities            0\n",
       "Lot Config           0\n",
       "Land Slope           0\n",
       "Neighborhood         0\n",
       "Condition 1          0\n",
       "Condition 2          0\n",
       "Bldg Type            0\n",
       "House Style          0\n",
       "Overall Qual         0\n",
       "Overall Cond         0\n",
       "Year Built           0\n",
       "Year Remod/Add       0\n",
       "Roof Style           0\n",
       "Roof Matl            0\n",
       "Exterior 1st         0\n",
       "Exterior 2nd         0\n",
       "Mas Vnr Type         0\n",
       "Mas Vnr Area        23\n",
       "Exter Qual           0\n",
       "Exter Cond           0\n",
       "Foundation           0\n",
       "Bsmt Qual            0\n",
       "Bsmt Cond            0\n",
       "Bsmt Exposure        0\n",
       "BsmtFin Type 1       0\n",
       "BsmtFin SF 1         1\n",
       "BsmtFin Type 2       0\n",
       "BsmtFin SF 2         1\n",
       "Bsmt Unf SF          1\n",
       "Total Bsmt SF        1\n",
       "Heating              0\n",
       "Heating QC           0\n",
       "Central Air          0\n",
       "Electrical           0\n",
       "1st Flr SF           0\n",
       "2nd Flr SF           0\n",
       "Low Qual Fin SF      0\n",
       "Gr Liv Area          0\n",
       "Bsmt Full Bath       2\n",
       "Bsmt Half Bath       2\n",
       "Full Bath            0\n",
       "Half Bath            0\n",
       "Bedroom AbvGr        0\n",
       "Kitchen AbvGr        0\n",
       "Kitchen Qual         0\n",
       "TotRms AbvGrd        0\n",
       "Functional           0\n",
       "Fireplaces           0\n",
       "Fireplace Qu         0\n",
       "Garage Type          0\n",
       "Garage Yr Blt      159\n",
       "Garage Finish        0\n",
       "Garage Cars          1\n",
       "Garage Area          1\n",
       "Garage Qual          0\n",
       "Garage Cond          0\n",
       "Paved Drive          0\n",
       "Wood Deck SF         0\n",
       "Open Porch SF        0\n",
       "Enclosed Porch       0\n",
       "3Ssn Porch           0\n",
       "Screen Porch         0\n",
       "Pool Area            0\n",
       "Pool QC              0\n",
       "Fence                0\n",
       "Misc Feature         0\n",
       "Misc Val             0\n",
       "Mo Sold              0\n",
       "Yr Sold              0\n",
       "Sale Type            0\n",
       "Sale Condition       0\n",
       "SalePrice            0\n",
       "dtype: int64"
      ]
     },
     "execution_count": 22,
     "metadata": {},
     "output_type": "execute_result"
    }
   ],
   "source": [
    "df_2.isnull().sum()"
   ]
  },
  {
   "cell_type": "markdown",
   "metadata": {},
   "source": [
    "### **2.2 Standardization**"
   ]
  },
  {
   "cell_type": "markdown",
   "metadata": {},
   "source": [
    "#### **Standard normally distribute each numeric feature, which results in a numpy array**\n",
    "\n",
    "**'numeric_cols' refers to all categories that are of type 'number'**"
   ]
  },
  {
   "cell_type": "code",
   "execution_count": 23,
   "metadata": {},
   "outputs": [
    {
     "data": {
      "text/plain": [
       "array([[-0.87700484,  3.12874389,  2.74438073, ..., -0.44805744,\n",
       "         1.678499  ,  0.42822875],\n",
       "       [-0.87700484,  0.45972069,  0.18709726, ..., -0.07960156,\n",
       "         1.678499  , -0.94895652],\n",
       "       [-0.87700484,  0.50347517,  0.5228137 , ..., -0.07960156,\n",
       "         1.678499  , -0.11012549],\n",
       "       ...,\n",
       "       [ 0.64771625, -0.32785993,  0.03719892, ...,  0.28885432,\n",
       "        -1.36011828, -0.61092014],\n",
       "       [-0.87700484,  0.32845726, -0.01750572, ..., -0.81651332,\n",
       "        -1.36011828, -0.13516523],\n",
       "       [ 0.06128506,  0.19719382, -0.06611797, ...,  1.76267783,\n",
       "        -1.36011828,  0.09019236]])"
      ]
     },
     "execution_count": 23,
     "metadata": {},
     "output_type": "execute_result"
    }
   ],
   "source": [
    "standardized_df2 = preprocessing.scale(df_numeric_cols)\n",
    "standardized_df2"
   ]
  },
  {
   "cell_type": "markdown",
   "metadata": {},
   "source": [
    "**Converting the standardized numpy result to dataframe to plot a boxplot**"
   ]
  },
  {
   "cell_type": "code",
   "execution_count": 24,
   "metadata": {},
   "outputs": [
    {
     "data": {
      "text/html": [
       "<div>\n",
       "<style scoped>\n",
       "    .dataframe tbody tr th:only-of-type {\n",
       "        vertical-align: middle;\n",
       "    }\n",
       "\n",
       "    .dataframe tbody tr th {\n",
       "        vertical-align: top;\n",
       "    }\n",
       "\n",
       "    .dataframe thead th {\n",
       "        text-align: right;\n",
       "    }\n",
       "</style>\n",
       "<table border=\"1\" class=\"dataframe\">\n",
       "  <thead>\n",
       "    <tr style=\"text-align: right;\">\n",
       "      <th></th>\n",
       "      <th>MS SubClass</th>\n",
       "      <th>Lot Frontage</th>\n",
       "      <th>Lot Area</th>\n",
       "      <th>Overall Qual</th>\n",
       "      <th>Overall Cond</th>\n",
       "      <th>Year Built</th>\n",
       "      <th>Year Remod/Add</th>\n",
       "      <th>Mas Vnr Area</th>\n",
       "      <th>BsmtFin SF 1</th>\n",
       "      <th>BsmtFin SF 2</th>\n",
       "      <th>Bsmt Unf SF</th>\n",
       "      <th>Total Bsmt SF</th>\n",
       "      <th>1st Flr SF</th>\n",
       "      <th>2nd Flr SF</th>\n",
       "      <th>Low Qual Fin SF</th>\n",
       "      <th>Gr Liv Area</th>\n",
       "      <th>Bsmt Full Bath</th>\n",
       "      <th>Bsmt Half Bath</th>\n",
       "      <th>Full Bath</th>\n",
       "      <th>Half Bath</th>\n",
       "      <th>Bedroom AbvGr</th>\n",
       "      <th>Kitchen AbvGr</th>\n",
       "      <th>TotRms AbvGrd</th>\n",
       "      <th>Fireplaces</th>\n",
       "      <th>Garage Yr Blt</th>\n",
       "      <th>Garage Cars</th>\n",
       "      <th>Garage Area</th>\n",
       "      <th>Wood Deck SF</th>\n",
       "      <th>Open Porch SF</th>\n",
       "      <th>Enclosed Porch</th>\n",
       "      <th>3Ssn Porch</th>\n",
       "      <th>Screen Porch</th>\n",
       "      <th>Pool Area</th>\n",
       "      <th>Misc Val</th>\n",
       "      <th>Mo Sold</th>\n",
       "      <th>Yr Sold</th>\n",
       "      <th>SalePrice</th>\n",
       "    </tr>\n",
       "  </thead>\n",
       "  <tbody>\n",
       "    <tr>\n",
       "      <th>2925</th>\n",
       "      <td>0.530430</td>\n",
       "      <td>-1.421722</td>\n",
       "      <td>-0.280621</td>\n",
       "      <td>-0.067254</td>\n",
       "      <td>0.393091</td>\n",
       "      <td>0.418109</td>\n",
       "      <td>-0.012780</td>\n",
       "      <td>-0.570422</td>\n",
       "      <td>0.826581</td>\n",
       "      <td>-0.293918</td>\n",
       "      <td>-0.854144</td>\n",
       "      <td>-0.110031</td>\n",
       "      <td>-0.399561</td>\n",
       "      <td>-0.783185</td>\n",
       "      <td>-0.101005</td>\n",
       "      <td>-0.982723</td>\n",
       "      <td>1.082555</td>\n",
       "      <td>-0.249782</td>\n",
       "      <td>-1.024793</td>\n",
       "      <td>-0.755203</td>\n",
       "      <td>0.176094</td>\n",
       "      <td>-0.207291</td>\n",
       "      <td>-0.281684</td>\n",
       "      <td>-0.925143</td>\n",
       "      <td>0.263757</td>\n",
       "      <td>0.306990</td>\n",
       "      <td>0.536083</td>\n",
       "      <td>0.207758</td>\n",
       "      <td>-0.704493</td>\n",
       "      <td>-0.358838</td>\n",
       "      <td>-0.103134</td>\n",
       "      <td>-0.285354</td>\n",
       "      <td>-0.063031</td>\n",
       "      <td>-0.089422</td>\n",
       "      <td>-1.184969</td>\n",
       "      <td>-1.360118</td>\n",
       "      <td>-0.479462</td>\n",
       "    </tr>\n",
       "    <tr>\n",
       "      <th>2926</th>\n",
       "      <td>-0.877005</td>\n",
       "      <td>-0.874791</td>\n",
       "      <td>-0.160296</td>\n",
       "      <td>-0.776079</td>\n",
       "      <td>-0.506718</td>\n",
       "      <td>0.385040</td>\n",
       "      <td>-0.060726</td>\n",
       "      <td>-0.570422</td>\n",
       "      <td>-0.310665</td>\n",
       "      <td>1.621958</td>\n",
       "      <td>-0.728957</td>\n",
       "      <td>-0.425559</td>\n",
       "      <td>-0.657330</td>\n",
       "      <td>-0.783185</td>\n",
       "      <td>-0.101005</td>\n",
       "      <td>-1.182556</td>\n",
       "      <td>1.082555</td>\n",
       "      <td>-0.249782</td>\n",
       "      <td>-1.024793</td>\n",
       "      <td>-0.755203</td>\n",
       "      <td>-1.032234</td>\n",
       "      <td>-0.207291</td>\n",
       "      <td>-0.917535</td>\n",
       "      <td>-0.925143</td>\n",
       "      <td>0.224841</td>\n",
       "      <td>0.306990</td>\n",
       "      <td>0.052453</td>\n",
       "      <td>0.556024</td>\n",
       "      <td>-0.704493</td>\n",
       "      <td>-0.358838</td>\n",
       "      <td>-0.103134</td>\n",
       "      <td>-0.285354</td>\n",
       "      <td>-0.063031</td>\n",
       "      <td>-0.089422</td>\n",
       "      <td>-0.079602</td>\n",
       "      <td>-1.360118</td>\n",
       "      <td>-0.623440</td>\n",
       "    </tr>\n",
       "    <tr>\n",
       "      <th>2927</th>\n",
       "      <td>0.647716</td>\n",
       "      <td>-0.327860</td>\n",
       "      <td>0.037199</td>\n",
       "      <td>-0.776079</td>\n",
       "      <td>-0.506718</td>\n",
       "      <td>0.682657</td>\n",
       "      <td>0.370789</td>\n",
       "      <td>-0.570422</td>\n",
       "      <td>-0.231629</td>\n",
       "      <td>-0.293918</td>\n",
       "      <td>0.035819</td>\n",
       "      <td>-0.316599</td>\n",
       "      <td>-0.483783</td>\n",
       "      <td>-0.783185</td>\n",
       "      <td>-0.101005</td>\n",
       "      <td>-1.048015</td>\n",
       "      <td>-0.822482</td>\n",
       "      <td>3.827447</td>\n",
       "      <td>-1.024793</td>\n",
       "      <td>-0.755203</td>\n",
       "      <td>0.176094</td>\n",
       "      <td>-0.207291</td>\n",
       "      <td>-0.281684</td>\n",
       "      <td>-0.925143</td>\n",
       "      <td>0.069178</td>\n",
       "      <td>-2.323071</td>\n",
       "      <td>-2.198288</td>\n",
       "      <td>-0.108848</td>\n",
       "      <td>-0.230221</td>\n",
       "      <td>-0.358838</td>\n",
       "      <td>-0.103134</td>\n",
       "      <td>-0.285354</td>\n",
       "      <td>-0.063031</td>\n",
       "      <td>1.146786</td>\n",
       "      <td>0.288854</td>\n",
       "      <td>-1.360118</td>\n",
       "      <td>-0.610920</td>\n",
       "    </tr>\n",
       "    <tr>\n",
       "      <th>2928</th>\n",
       "      <td>-0.877005</td>\n",
       "      <td>0.328457</td>\n",
       "      <td>-0.017506</td>\n",
       "      <td>-0.776079</td>\n",
       "      <td>-0.506718</td>\n",
       "      <td>0.087423</td>\n",
       "      <td>-0.444296</td>\n",
       "      <td>-0.570422</td>\n",
       "      <td>1.379836</td>\n",
       "      <td>0.433405</td>\n",
       "      <td>-0.829106</td>\n",
       "      <td>0.766182</td>\n",
       "      <td>0.585575</td>\n",
       "      <td>-0.783185</td>\n",
       "      <td>-0.101005</td>\n",
       "      <td>-0.219006</td>\n",
       "      <td>1.082555</td>\n",
       "      <td>-0.249782</td>\n",
       "      <td>-1.024793</td>\n",
       "      <td>-0.755203</td>\n",
       "      <td>-1.032234</td>\n",
       "      <td>-0.207291</td>\n",
       "      <td>-0.281684</td>\n",
       "      <td>0.618518</td>\n",
       "      <td>-0.086485</td>\n",
       "      <td>0.306990</td>\n",
       "      <td>-0.254466</td>\n",
       "      <td>1.157576</td>\n",
       "      <td>-0.141295</td>\n",
       "      <td>-0.358838</td>\n",
       "      <td>-0.103134</td>\n",
       "      <td>-0.285354</td>\n",
       "      <td>-0.063031</td>\n",
       "      <td>-0.089422</td>\n",
       "      <td>-0.816513</td>\n",
       "      <td>-1.360118</td>\n",
       "      <td>-0.135165</td>\n",
       "    </tr>\n",
       "    <tr>\n",
       "      <th>2929</th>\n",
       "      <td>0.061285</td>\n",
       "      <td>0.197194</td>\n",
       "      <td>-0.066118</td>\n",
       "      <td>0.641571</td>\n",
       "      <td>-0.506718</td>\n",
       "      <td>0.715726</td>\n",
       "      <td>0.466681</td>\n",
       "      <td>-0.044064</td>\n",
       "      <td>0.692658</td>\n",
       "      <td>-0.293918</td>\n",
       "      <td>-0.731233</td>\n",
       "      <td>-0.125921</td>\n",
       "      <td>-0.417426</td>\n",
       "      <td>1.560842</td>\n",
       "      <td>-0.101005</td>\n",
       "      <td>0.989884</td>\n",
       "      <td>-0.822482</td>\n",
       "      <td>-0.249782</td>\n",
       "      <td>0.784028</td>\n",
       "      <td>1.234675</td>\n",
       "      <td>0.176094</td>\n",
       "      <td>-0.207291</td>\n",
       "      <td>1.625868</td>\n",
       "      <td>0.618518</td>\n",
       "      <td>0.613999</td>\n",
       "      <td>1.622021</td>\n",
       "      <td>0.824402</td>\n",
       "      <td>0.761818</td>\n",
       "      <td>0.006915</td>\n",
       "      <td>-0.358838</td>\n",
       "      <td>-0.103134</td>\n",
       "      <td>-0.285354</td>\n",
       "      <td>-0.063031</td>\n",
       "      <td>-0.089422</td>\n",
       "      <td>1.762678</td>\n",
       "      <td>-1.360118</td>\n",
       "      <td>0.090192</td>\n",
       "    </tr>\n",
       "  </tbody>\n",
       "</table>\n",
       "</div>"
      ],
      "text/plain": [
       "      MS SubClass  Lot Frontage  Lot Area  Overall Qual  Overall Cond  \\\n",
       "2925     0.530430     -1.421722 -0.280621     -0.067254      0.393091   \n",
       "2926    -0.877005     -0.874791 -0.160296     -0.776079     -0.506718   \n",
       "2927     0.647716     -0.327860  0.037199     -0.776079     -0.506718   \n",
       "2928    -0.877005      0.328457 -0.017506     -0.776079     -0.506718   \n",
       "2929     0.061285      0.197194 -0.066118      0.641571     -0.506718   \n",
       "\n",
       "      Year Built  Year Remod/Add  Mas Vnr Area  BsmtFin SF 1  BsmtFin SF 2  \\\n",
       "2925    0.418109       -0.012780     -0.570422      0.826581     -0.293918   \n",
       "2926    0.385040       -0.060726     -0.570422     -0.310665      1.621958   \n",
       "2927    0.682657        0.370789     -0.570422     -0.231629     -0.293918   \n",
       "2928    0.087423       -0.444296     -0.570422      1.379836      0.433405   \n",
       "2929    0.715726        0.466681     -0.044064      0.692658     -0.293918   \n",
       "\n",
       "      Bsmt Unf SF  Total Bsmt SF  1st Flr SF  2nd Flr SF  Low Qual Fin SF  \\\n",
       "2925    -0.854144      -0.110031   -0.399561   -0.783185        -0.101005   \n",
       "2926    -0.728957      -0.425559   -0.657330   -0.783185        -0.101005   \n",
       "2927     0.035819      -0.316599   -0.483783   -0.783185        -0.101005   \n",
       "2928    -0.829106       0.766182    0.585575   -0.783185        -0.101005   \n",
       "2929    -0.731233      -0.125921   -0.417426    1.560842        -0.101005   \n",
       "\n",
       "      Gr Liv Area  Bsmt Full Bath  Bsmt Half Bath  Full Bath  Half Bath  \\\n",
       "2925    -0.982723        1.082555       -0.249782  -1.024793  -0.755203   \n",
       "2926    -1.182556        1.082555       -0.249782  -1.024793  -0.755203   \n",
       "2927    -1.048015       -0.822482        3.827447  -1.024793  -0.755203   \n",
       "2928    -0.219006        1.082555       -0.249782  -1.024793  -0.755203   \n",
       "2929     0.989884       -0.822482       -0.249782   0.784028   1.234675   \n",
       "\n",
       "      Bedroom AbvGr  Kitchen AbvGr  TotRms AbvGrd  Fireplaces  Garage Yr Blt  \\\n",
       "2925       0.176094      -0.207291      -0.281684   -0.925143       0.263757   \n",
       "2926      -1.032234      -0.207291      -0.917535   -0.925143       0.224841   \n",
       "2927       0.176094      -0.207291      -0.281684   -0.925143       0.069178   \n",
       "2928      -1.032234      -0.207291      -0.281684    0.618518      -0.086485   \n",
       "2929       0.176094      -0.207291       1.625868    0.618518       0.613999   \n",
       "\n",
       "      Garage Cars  Garage Area  Wood Deck SF  Open Porch SF  Enclosed Porch  \\\n",
       "2925     0.306990     0.536083      0.207758      -0.704493       -0.358838   \n",
       "2926     0.306990     0.052453      0.556024      -0.704493       -0.358838   \n",
       "2927    -2.323071    -2.198288     -0.108848      -0.230221       -0.358838   \n",
       "2928     0.306990    -0.254466      1.157576      -0.141295       -0.358838   \n",
       "2929     1.622021     0.824402      0.761818       0.006915       -0.358838   \n",
       "\n",
       "      3Ssn Porch  Screen Porch  Pool Area  Misc Val   Mo Sold   Yr Sold  \\\n",
       "2925   -0.103134     -0.285354  -0.063031 -0.089422 -1.184969 -1.360118   \n",
       "2926   -0.103134     -0.285354  -0.063031 -0.089422 -0.079602 -1.360118   \n",
       "2927   -0.103134     -0.285354  -0.063031  1.146786  0.288854 -1.360118   \n",
       "2928   -0.103134     -0.285354  -0.063031 -0.089422 -0.816513 -1.360118   \n",
       "2929   -0.103134     -0.285354  -0.063031 -0.089422  1.762678 -1.360118   \n",
       "\n",
       "      SalePrice  \n",
       "2925  -0.479462  \n",
       "2926  -0.623440  \n",
       "2927  -0.610920  \n",
       "2928  -0.135165  \n",
       "2929   0.090192  "
      ]
     },
     "execution_count": 24,
     "metadata": {},
     "output_type": "execute_result"
    }
   ],
   "source": [
    "df_standardized_df_2 = pd.DataFrame(standardized_df2)\n",
    "df_standardized_df_2.columns = df_numeric_cols.columns\n",
    "df_standardized_df_2.tail()"
   ]
  },
  {
   "cell_type": "markdown",
   "metadata": {},
   "source": [
    "#### **Boxplot of all numeric features before standardization**"
   ]
  },
  {
   "cell_type": "code",
   "execution_count": 25,
   "metadata": {},
   "outputs": [
    {
     "data": {
      "text/plain": [
       "<matplotlib.axes._subplots.AxesSubplot at 0x7fcd1b6cb780>"
      ]
     },
     "execution_count": 25,
     "metadata": {},
     "output_type": "execute_result"
    },
    {
     "data": {
      "image/png": "[encoded data removed]",
      "text/plain": [
       "<Figure size 1008x504 with 1 Axes>"
      ]
     },
     "metadata": {
      "needs_background": "light"
     },
     "output_type": "display_data"
    }
   ],
   "source": [
    "df_numeric_cols.boxplot(return_type='axes',figsize=(14,7),rot=90)"
   ]
  },
  {
   "cell_type": "markdown",
   "metadata": {},
   "source": [
    "#### **Boxplot of all numeric features after standardization**\n",
    "\n",
    "We can see some outliers even now, but we can also see the result of standardization. Explained further after graph."
   ]
  },
  {
   "cell_type": "code",
   "execution_count": 26,
   "metadata": {},
   "outputs": [
    {
     "data": {
      "text/plain": [
       "<matplotlib.axes._subplots.AxesSubplot at 0x7fcd1b31cdd8>"
      ]
     },
     "execution_count": 26,
     "metadata": {},
     "output_type": "execute_result"
    },
    {
     "data": {
      "image/png": "[encoded data removed]",
      "text/plain": [
       "<Figure size 1008x504 with 1 Axes>"
      ]
     },
     "metadata": {
      "needs_background": "light"
     },
     "output_type": "display_data"
    }
   ],
   "source": [
    "df_standardized_df_2.boxplot(return_type='axes', figsize=(14,7), rot=90)"
   ]
  },
  {
   "cell_type": "markdown",
   "metadata": {},
   "source": [
    "We notice a significant improvement in placement of the values in the graph2 compared to graph1 where we can almost see no value properly, meaning they have now been standardized.\n",
    "\n",
    "Sale Price has maximum outliers in un-standardized dataframe, Misc Val has maximum outliers in the standardized dataframe."
   ]
  },
  {
   "cell_type": "markdown",
   "metadata": {},
   "source": [
    "### **2.3 Feature Selection**"
   ]
  },
  {
   "cell_type": "markdown",
   "metadata": {},
   "source": [
    "#### **Mutual information between numeric features and SalePrice**"
   ]
  },
  {
   "cell_type": "code",
   "execution_count": 27,
   "metadata": {},
   "outputs": [],
   "source": [
    "df_standardized_df_2_updated = df_standardized_df_2.drop(columns='SalePrice')"
   ]
  },
  {
   "cell_type": "code",
   "execution_count": 28,
   "metadata": {},
   "outputs": [
    {
     "data": {
      "text/plain": [
       "array([0.29137221, 0.21045411, 0.16711859, 0.57479163, 0.13207923,\n",
       "       0.40021642, 0.29726142, 0.17042962, 0.17848594, 0.00123891,\n",
       "       0.11730962, 0.39082977, 0.36867412, 0.2016602 , 0.01570182,\n",
       "       0.49389012, 0.04340111, 0.014373  , 0.25006366, 0.06025433,\n",
       "       0.02340412, 0.03106021, 0.18596554, 0.17457504, 0.30064469,\n",
       "       0.38110136, 0.41917687, 0.10944393, 0.16855502, 0.03222705,\n",
       "       0.00404618, 0.02229913, 0.00707189, 0.01223387, 0.        ,\n",
       "       0.03479326])"
      ]
     },
     "execution_count": 28,
     "metadata": {},
     "output_type": "execute_result"
    }
   ],
   "source": [
    "mutual_info = feature_selection.mutual_info_regression(df_standardized_df_2_updated,df_standardized_df_2['SalePrice'])\n",
    "mutual_info"
   ]
  },
  {
   "cell_type": "markdown",
   "metadata": {},
   "source": [
    "#### **Making a list of tuples to map column headers to mutual information array**"
   ]
  },
  {
   "cell_type": "code",
   "execution_count": 29,
   "metadata": {},
   "outputs": [],
   "source": [
    "numeric_cols = list(df_numeric_cols.columns)"
   ]
  },
  {
   "cell_type": "code",
   "execution_count": 30,
   "metadata": {},
   "outputs": [],
   "source": [
    "numeric_cols.remove('SalePrice')"
   ]
  },
  {
   "cell_type": "code",
   "execution_count": 31,
   "metadata": {},
   "outputs": [
    {
     "data": {
      "text/plain": [
       "36"
      ]
     },
     "execution_count": 31,
     "metadata": {},
     "output_type": "execute_result"
    }
   ],
   "source": [
    "len(mutual_info)"
   ]
  },
  {
   "cell_type": "code",
   "execution_count": 32,
   "metadata": {},
   "outputs": [
    {
     "data": {
      "text/plain": [
       "36"
      ]
     },
     "execution_count": 32,
     "metadata": {},
     "output_type": "execute_result"
    }
   ],
   "source": [
    "len(numeric_cols)"
   ]
  },
  {
   "cell_type": "code",
   "execution_count": 33,
   "metadata": {},
   "outputs": [],
   "source": [
    "mutual_info_with_features = []\n",
    "for i in range(len(mutual_info)):\n",
    "    mutual_info_with_features.append((numeric_cols[i],mutual_info[i]))"
   ]
  },
  {
   "cell_type": "code",
   "execution_count": 34,
   "metadata": {},
   "outputs": [
    {
     "data": {
      "text/plain": [
       "[('MS SubClass', 0.2913722139312158),\n",
       " ('Lot Frontage', 0.21045411133536263),\n",
       " ('Lot Area', 0.16711859034554433),\n",
       " ('Overall Qual', 0.5747916326799949),\n",
       " ('Overall Cond', 0.13207923178952496),\n",
       " ('Year Built', 0.4002164241686499),\n",
       " ('Year Remod/Add', 0.2972614225844823),\n",
       " ('Mas Vnr Area', 0.17042961573463122),\n",
       " ('BsmtFin SF 1', 0.1784859351303365),\n",
       " ('BsmtFin SF 2', 0.001238913101018646),\n",
       " ('Bsmt Unf SF', 0.11730962208861762),\n",
       " ('Total Bsmt SF', 0.39082976881618947),\n",
       " ('1st Flr SF', 0.36867412236389985),\n",
       " ('2nd Flr SF', 0.20166019729362405),\n",
       " ('Low Qual Fin SF', 0.01570181731725806),\n",
       " ('Gr Liv Area', 0.4938901200894712),\n",
       " ('Bsmt Full Bath', 0.04340110786634144),\n",
       " ('Bsmt Half Bath', 0.014372998733263032),\n",
       " ('Full Bath', 0.25006365702203004),\n",
       " ('Half Bath', 0.06025433404245395),\n",
       " ('Bedroom AbvGr', 0.02340411790256436),\n",
       " ('Kitchen AbvGr', 0.031060206662633538),\n",
       " ('TotRms AbvGrd', 0.18596554138945098),\n",
       " ('Fireplaces', 0.17457504022668568),\n",
       " ('Garage Yr Blt', 0.30064469043944175),\n",
       " ('Garage Cars', 0.38110135829493186),\n",
       " ('Garage Area', 0.4191768691592941),\n",
       " ('Wood Deck SF', 0.1094439295495615),\n",
       " ('Open Porch SF', 0.16855502243678977),\n",
       " ('Enclosed Porch', 0.032227054648197306),\n",
       " ('3Ssn Porch', 0.0040461832659615116),\n",
       " ('Screen Porch', 0.022299131601526634),\n",
       " ('Pool Area', 0.0070718893947505634),\n",
       " ('Misc Val', 0.01223386605096688),\n",
       " ('Mo Sold', 0.0),\n",
       " ('Yr Sold', 0.03479326395221616)]"
      ]
     },
     "execution_count": 34,
     "metadata": {},
     "output_type": "execute_result"
    }
   ],
   "source": [
    "mutual_info_with_features"
   ]
  },
  {
   "cell_type": "markdown",
   "metadata": {},
   "source": [
    "#### **Method to sort the list of tuples**"
   ]
  },
  {
   "cell_type": "code",
   "execution_count": 35,
   "metadata": {},
   "outputs": [],
   "source": [
    "def sort_mutual_info(tup):\n",
    "    n = len(tup)\n",
    "    for i in range(0,n):  \n",
    "        for j in range(0,n - i - 1):  \n",
    "            if (tup[j][1] > tup[j + 1][1]):  \n",
    "                temp = tup[j]  \n",
    "                tup[j]= tup[j + 1]  \n",
    "                tup[j + 1]= temp  \n",
    "    return tup  "
   ]
  },
  {
   "cell_type": "markdown",
   "metadata": {},
   "source": [
    "#### **Top 5 numeric features ranked by mutual information**"
   ]
  },
  {
   "cell_type": "code",
   "execution_count": 36,
   "metadata": {},
   "outputs": [
    {
     "data": {
      "text/plain": [
       "[('Overall Qual', 0.5747916326799949),\n",
       " ('Gr Liv Area', 0.4938901200894712),\n",
       " ('Garage Area', 0.4191768691592941),\n",
       " ('Year Built', 0.4002164241686499),\n",
       " ('Total Bsmt SF', 0.39082976881618947)]"
      ]
     },
     "execution_count": 36,
     "metadata": {},
     "output_type": "execute_result"
    }
   ],
   "source": [
    "sorted_mutual_info = sort_mutual_info(mutual_info_with_features)\n",
    "top_5_sorted = sorted_mutual_info[-5:]\n",
    "top_5_sorted[::-1]"
   ]
  },
  {
   "cell_type": "markdown",
   "metadata": {},
   "source": [
    "#### **How Sales Price changes wrt Overall Qual**"
   ]
  },
  {
   "cell_type": "code",
   "execution_count": 37,
   "metadata": {},
   "outputs": [
    {
     "data": {
      "text/plain": [
       "<matplotlib.axes._subplots.AxesSubplot at 0x7fcd1af575c0>"
      ]
     },
     "execution_count": 37,
     "metadata": {},
     "output_type": "execute_result"
    },
    {
     "data": {
      "image/png": "[encoded data removed]",
      "text/plain": [
       "<Figure size 432x288 with 1 Axes>"
      ]
     },
     "metadata": {
      "needs_background": "light"
     },
     "output_type": "display_data"
    }
   ],
   "source": [
    "df_standardized_df_2.plot(x='Overall Qual',y='SalePrice')"
   ]
  },
  {
   "cell_type": "markdown",
   "metadata": {},
   "source": [
    "As overall qual increases, the sales price also increases. This can be justified using the graph that's shown above which plots standardized values of sales price and overall qual."
   ]
  }
 ],
 "metadata": {
  "kernelspec": {
   "display_name": "Python 3",
   "language": "python",
   "name": "python3"
  },
  "language_info": {
   "codemirror_mode": {
    "name": "ipython",
    "version": 3
   },
   "file_extension": ".py",
   "mimetype": "text/x-python",
   "name": "python",
   "nbconvert_exporter": "python",
   "pygments_lexer": "ipython3",
   "version": "3.6.9"
  }
 },
 "nbformat": 4,
 "nbformat_minor": 4
}
